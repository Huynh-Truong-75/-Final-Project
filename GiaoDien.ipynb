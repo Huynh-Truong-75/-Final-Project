{
  "nbformat": 4,
  "nbformat_minor": 0,
  "metadata": {
    "colab": {
      "provenance": [],
      "authorship_tag": "ABX9TyP1fFsj2EaX4Jg2yuSLo06B",
      "include_colab_link": true
    },
    "kernelspec": {
      "name": "python3",
      "display_name": "Python 3"
    },
    "language_info": {
      "name": "python"
    }
  },
  "cells": [
    {
      "cell_type": "markdown",
      "metadata": {
        "id": "view-in-github",
        "colab_type": "text"
      },
      "source": [
        "<a href=\"https://colab.research.google.com/github/Huynh-Truong-75/-Final-Project/blob/main/GiaoDien.ipynb\" target=\"_parent\"><img src=\"https://colab.research.google.com/assets/colab-badge.svg\" alt=\"Open In Colab\"/></a>"
      ]
    },
    {
      "cell_type": "code",
      "source": [
        "import tkinter as tk\n",
        "from tkinter import *\n",
        "from PIL import ImageTk, Image\n",
        "import pyglet\n",
        "import os\n",
        "os.environ['TF_CPP_MIN_LOG_LEVEL'] = '2'\n",
        "import cv2\n",
        "import numpy as np\n",
        "from keras.models import load_model\n",
        "import time"
      ],
      "metadata": {
        "id": "-P5LFKRpgX1m"
      },
      "execution_count": null,
      "outputs": []
    },
    {
      "cell_type": "code",
      "source": [
        "# set colours\n",
        "bg_colour = \"#3d7500\"\n",
        "# load custom fonts\n",
        "pyglet.font.add_file(\"C:/Users/Admin/Downloads/Ubuntu/Ubuntu-Bold.ttf\")\n",
        "pyglet.font.add_file(\"C:/Users/Admin/Downloads/Shanti/Shanti-Regular.ttf\")\n",
        "######################################\n",
        "def clear_widgets(frame):\n",
        "    # select all frame widgets and delete them\n",
        "    for widget in frame.winfo_children():\n",
        "        widget.destroy()\n",
        "##########################################\n",
        "# initialize app with basic settings\n",
        "root = tk.Tk()\n",
        "root.title(\"NHẬN DIỆN THỦ NGỮ\")\n",
        "root.eval(\"tk::PlaceWindow . center\")\n",
        "# create a frame widgets\n",
        "frame1 = tk.Frame(root, width=500, height=600, bg=bg_colour)\n",
        "frame2 = tk.Frame(root, bg=bg_colour)\n",
        "###########################################\n",
        "frame1.tkraise()\n",
        "    # prevent widgets from modifying the frame\n",
        "frame1.pack_propagate(False)"
      ],
      "metadata": {
        "id": "9ipWmBdIfhZf"
      },
      "execution_count": null,
      "outputs": []
    },
    {
      "cell_type": "code",
      "source": [
        "logo_img = ImageTk.PhotoImage(file=\"C:/Users/Admin/Downloads/image2.jpg\")\n",
        "logo_widget = tk.Label(frame1, image=logo_img, bg=bg_colour)\n",
        "logo_widget.image = logo_img\n",
        "logo_widget.pack()\n",
        "lbl = Label(root, text=\"Nhận diện thủ ngữ người khuyết tật\", fg=\"red\",font=(\"Arial Bold\", 30)).place(x=105, y=0)\n",
        "\n",
        "for frame in (frame1, frame2):\n",
        "    frame.grid(row=0, column=0, sticky=\"nesw\")"
      ],
      "metadata": {
        "id": "ag1rfmWhfhXi"
      },
      "execution_count": null,
      "outputs": []
    },
    {
      "cell_type": "code",
      "source": [
        "def start():\n",
        "    output = {0: 'E',\n",
        "              1: 'L',\n",
        "              2: 'F',\n",
        "              3: 'V',\n",
        "              4: 'B'}\n",
        "    model = load_model('model1/model_good2..h5')\n",
        "    def predict_image(image):\n",
        "        image = np.array(image, dtype='float32')\n",
        "        image /= 255\n",
        "        pred_array = model.predict(image)\n",
        "        print(f'pred_array: {pred_array}')\n",
        "        result = output[int(np.argmax(pred_array))]\n",
        "        print(f'Result: {result}')\n",
        "        print(max(pred_array[0]))\n",
        "        score = float(\"%0.2f\" % (max(pred_array[0]) * 100))\n",
        "        print(result)\n",
        "        return result, score\n",
        "    def remove_background(frame):\n",
        "        fgmask = bgModel.apply(frame, learningRate=learningRate)\n",
        "        kernel = np.ones((3, 3), np.uint8)\n",
        "        fgmask = cv2.erode(fgmask, kernel, iterations=1)\n",
        "        res = cv2.bitwise_and(frame, frame, mask=fgmask)\n",
        "        return res\n",
        "    # Khai bao kich thuoc vung detection region\n",
        "    cap_region_x_begin = 0.5\n",
        "    cap_region_y_end = 0.8\n",
        "\n",
        "    # Cac thong so lay threshold\n",
        "    threshold = 60\n",
        "    blurValue = 41\n",
        "    bgSubThreshold = 50#50\n",
        "    learningRate = 0\n",
        "\n",
        "    # Nguong du doan ky tu\n",
        "    predThreshold= 95\n",
        "\n",
        "    isBgCaptured = 0  # Bien luu tru da capture background chua\n",
        "\n",
        "    # Camera\n",
        "    camera = cv2.VideoCapture(0)\n",
        "    camera.set(10,200)\n",
        "    camera.set(cv2.CAP_PROP_AUTO_EXPOSURE, 0.01)\n",
        "    while camera.isOpened():\n",
        "        # Doc anh tu webcam\n",
        "        ret, frame = camera.read()\n",
        "        # Lam min anh\n",
        "        frame = cv2.bilateralFilter(frame, 5, 50, 100)\n",
        "        # Lat ngang anh\n",
        "        frame = cv2.flip(frame, 1)\n",
        "\n",
        "        # Ve khung hinh chu nhat vung detection region\n",
        "        cv2.rectangle(frame, (int(cap_region_x_begin * frame.shape[1]), 0),\n",
        "                    (frame.shape[1], int(cap_region_y_end * frame.shape[0])), (255, 0, 0), 2)\n",
        "        # Neu ca capture dc nen\n",
        "        if isBgCaptured == 1:\n",
        "            # Tach nen\n",
        "            img = remove_background(frame)\n",
        "\n",
        "            # Lay vung detection\n",
        "            img = img[0:int(cap_region_y_end * frame.shape[0]),\n",
        "                int(cap_region_x_begin * frame.shape[1]):frame.shape[1]]  # clip the ROI\n",
        "            # Chuyen ve den trang\n",
        "            gray = cv2.cvtColor(img, cv2.COLOR_BGR2GRAY)\n",
        "            blur = cv2.GaussianBlur(gray, (blurValue, blurValue), 0)\n",
        "\n",
        "            cv2.imshow('original1', cv2.resize(blur, dsize=None, fx=0.5, fy=0.5))\n",
        "\n",
        "            ret, thresh = cv2.threshold(blur, threshold, 255, cv2.THRESH_BINARY + cv2.THRESH_OTSU)\n",
        "\n",
        "            cv2.imshow('thresh', cv2.resize(thresh, dsize=None, fx=0.5, fy=0.5))\n",
        "\n",
        "            if (np.count_nonzero(thresh)/(thresh.shape[0]*thresh.shape[0])>0.2):\n",
        "                # Neu nhu ve duoc hinh ban tay\n",
        "                if (thresh is not None):\n",
        "                    # Dua vao mang de predict\n",
        "                    target = np.stack((thresh,) * 3, axis=-1)\n",
        "                    target = cv2.resize(target, (224, 224))\n",
        "                    target = target.reshape(1, 224, 224, 3)\n",
        "                    prediction, score = predict_image(target)\n",
        "                    # Neu probality > nguong du doan thi hien thi\n",
        "                    print(score,prediction)\n",
        "                    if (score>=predThreshold):\n",
        "                        cv2.putText(frame, \"Sign:\" + prediction, (20, 150), cv2.FONT_HERSHEY_SIMPLEX, 3,\n",
        "                                    (0, 0, 255), 10, lineType=cv2.LINE_AA)\n",
        "        thresh = None\n",
        "\n",
        "        # Xu ly phim bam\n",
        "        k = cv2.waitKey(10)\n",
        "        if k == ord('q'):  # Bam q de thoat\n",
        "            break\n",
        "        elif k == ord('s'):\n",
        "            bgModel = cv2.createBackgroundSubtractorMOG2(0, bgSubThreshold)\n",
        "            isBgCaptured = 1\n",
        "            cv2.putText(frame, \"Background captured\", (20, 150), cv2.FONT_HERSHEY_SIMPLEX, 3,\n",
        "                        (0, 0, 255), 10, lineType=cv2.LINE_AA)\n",
        "            time.sleep(2)\n",
        "            print('Background captured')\n",
        "        elif k == ord('r'):\n",
        "\n",
        "            bgModel = None\n",
        "            isBgCaptured = 0\n",
        "            cv2.putText(frame, \"Background reset\", (20, 150), cv2.FONT_HERSHEY_SIMPLEX, 3,\n",
        "                        (0, 0, 255),10,lineType=cv2.LINE_AA)\n",
        "            print('Background reset')\n",
        "            time.sleep(1)\n",
        "        cv2.imshow('original', cv2.resize(frame, dsize=None, fx=0.5, fy=0.5))\n",
        "    cv2.destroyAllWindows()\n",
        "    camera.release()"
      ],
      "metadata": {
        "id": "x8r-3Rf7fhd6"
      },
      "execution_count": null,
      "outputs": []
    },
    {
      "cell_type": "code",
      "source": [
        "btn = Button(root, text=\"Bắt đầu\", bg=\"white\",font=(\"Arial Bold\", 20), fg=\"blue\", height=1, width=52, command=start)\n",
        "#Thiết lập vị trí của nút nhấn có màu nền và màu chữ\n",
        "btn.grid(row=1, column=0)\n",
        "\n",
        "# run app\n",
        "root.mainloop()"
      ],
      "metadata": {
        "id": "JgWUBNqMfhgP"
      },
      "execution_count": null,
      "outputs": []
    }
  ]
}